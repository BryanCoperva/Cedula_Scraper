{
 "cells": [
  {
   "cell_type": "code",
   "execution_count": 1,
   "metadata": {},
   "outputs": [],
   "source": [
    "from selenium import webdriver\n",
    "from selenium.webdriver.common.by import By\n",
    "from selenium.webdriver.common.keys import Keys\n",
    "from selenium.webdriver.chrome.options import Options\n",
    "from selenium.webdriver.support.ui import WebDriverWait\n",
    "from selenium.webdriver.support import expected_conditions as EC\n",
    "from selenium.common.exceptions import TimeoutException\n",
    "import time\n",
    "import pandas as pd\n",
    "from funciones import *"
   ]
  },
  {
   "cell_type": "code",
   "execution_count": 3,
   "metadata": {},
   "outputs": [
    {
     "name": "stdout",
     "output_type": "stream",
     "text": [
      "\n",
      "Warning: uc_driver not found. Getting it now:\n",
      "\n",
      "*** chromedriver to download = 116.0.5845.96 (Latest Stable) \n",
      "\n",
      "Downloading chromedriver-win64.zip from:\n",
      "https://edgedl.me.gvt1.com/edgedl/chrome/chrome-for-testing/116.0.5845.96/win64/chromedriver-win64.zip ...\n",
      "Download Complete!\n",
      "\n",
      "Extracting ['chromedriver.exe'] from chromedriver-win64.zip ...\n",
      "Unzip Complete!\n",
      "\n",
      "The file [uc_driver.exe] was saved to:\n",
      "C:\\Users\\polit\\Documents\\GITHUB\\Cedula_Scraper\\cedula\\Lib\\site-packages\\seleniumbase\\drivers\\uc_driver.exe\n",
      "\n",
      "Making [uc_driver.exe 116.0.5845.96] executable ...\n",
      "[uc_driver.exe 116.0.5845.96] is now ready for use!\n",
      "\n"
     ]
    }
   ],
   "source": [
    "url = 'https://www.conago.org.mx/gobernadores'\n",
    "driver = iniciar_scraper(url)"
   ]
  },
  {
   "cell_type": "code",
   "execution_count": 23,
   "metadata": {},
   "outputs": [
    {
     "ename": "NoSuchElementException",
     "evalue": "Message: no such element: Unable to locate element: {\"method\":\"css selector\",\"selector\":\".col-xs-12.col-md-8.texto.rcGobernadores\"}\n  (Session info: chrome=116.0.5845.111); For documentation on this error, please visit: https://www.selenium.dev/documentation/webdriver/troubleshooting/errors#no-such-element-exception\nStacktrace:\n\tGetHandleVerifier [0x00007FF631D352A2+57122]\n\t(No symbol) [0x00007FF631CAEA92]\n\t(No symbol) [0x00007FF631B7E3AB]\n\t(No symbol) [0x00007FF631BB7D3E]\n\t(No symbol) [0x00007FF631BB7E2C]\n\t(No symbol) [0x00007FF631BAEC3C]\n\t(No symbol) [0x00007FF631BD701F]\n\t(No symbol) [0x00007FF631BAEB76]\n\t(No symbol) [0x00007FF631BD71F0]\n\t(No symbol) [0x00007FF631BEEB82]\n\t(No symbol) [0x00007FF631BD6DB3]\n\t(No symbol) [0x00007FF631BAD2B1]\n\t(No symbol) [0x00007FF631BAE494]\n\tGetHandleVerifier [0x00007FF631FDEF82+2849794]\n\tGetHandleVerifier [0x00007FF632031D24+3189156]\n\tGetHandleVerifier [0x00007FF63202ACAF+3160367]\n\tGetHandleVerifier [0x00007FF631DC6D06+653702]\n\t(No symbol) [0x00007FF631CBA208]\n\t(No symbol) [0x00007FF631CB62C4]\n\t(No symbol) [0x00007FF631CB63F6]\n\t(No symbol) [0x00007FF631CA67A3]\n\tBaseThreadInitThunk [0x00007FFF952C26AD+29]\n\tRtlUserThreadStart [0x00007FFF960CAA68+40]\n",
     "output_type": "error",
     "traceback": [
      "\u001b[1;31m---------------------------------------------------------------------------\u001b[0m",
      "\u001b[1;31mNoSuchElementException\u001b[0m                    Traceback (most recent call last)",
      "Cell \u001b[1;32mIn[23], line 19\u001b[0m\n\u001b[0;32m     17\u001b[0m \u001b[39mfor\u001b[39;00m elemento \u001b[39min\u001b[39;00m elementos:\n\u001b[0;32m     18\u001b[0m     nombre_gobernador \u001b[39m=\u001b[39m elemento\u001b[39m.\u001b[39mfind_element(By\u001b[39m.\u001b[39mTAG_NAME, \u001b[39m'\u001b[39m\u001b[39mh4\u001b[39m\u001b[39m'\u001b[39m)\u001b[39m.\u001b[39mtext\n\u001b[1;32m---> 19\u001b[0m     texto_completo \u001b[39m=\u001b[39m elemento\u001b[39m.\u001b[39;49mfind_element(By\u001b[39m.\u001b[39;49mCLASS_NAME, \u001b[39m'\u001b[39;49m\u001b[39mcol-xs-12.col-md-8.texto.rcGobernadores\u001b[39;49m\u001b[39m'\u001b[39;49m)\u001b[39m.\u001b[39mtext\n\u001b[0;32m     21\u001b[0m     \u001b[39m# Usar una expresión regular para encontrar el patrón de fecha\u001b[39;00m\n\u001b[0;32m     22\u001b[0m     fecha_pattern \u001b[39m=\u001b[39m \u001b[39mr\u001b[39m\u001b[39m'\u001b[39m\u001b[39m\\\u001b[39m\u001b[39md\u001b[39m\u001b[39m{2}\u001b[39;00m\u001b[39m/\u001b[39m\u001b[39m\\\u001b[39m\u001b[39md\u001b[39m\u001b[39m{2}\u001b[39;00m\u001b[39m/\u001b[39m\u001b[39m\\\u001b[39m\u001b[39md\u001b[39m\u001b[39m{4}\u001b[39;00m\u001b[39m'\u001b[39m\n",
      "File \u001b[1;32mc:\\Users\\polit\\Documents\\GITHUB\\Cedula_Scraper\\cedula\\Lib\\site-packages\\selenium\\webdriver\\remote\\webelement.py:417\u001b[0m, in \u001b[0;36mWebElement.find_element\u001b[1;34m(self, by, value)\u001b[0m\n\u001b[0;32m    414\u001b[0m     by \u001b[39m=\u001b[39m By\u001b[39m.\u001b[39mCSS_SELECTOR\n\u001b[0;32m    415\u001b[0m     value \u001b[39m=\u001b[39m \u001b[39mf\u001b[39m\u001b[39m'\u001b[39m\u001b[39m[name=\u001b[39m\u001b[39m\"\u001b[39m\u001b[39m{\u001b[39;00mvalue\u001b[39m}\u001b[39;00m\u001b[39m\"\u001b[39m\u001b[39m]\u001b[39m\u001b[39m'\u001b[39m\n\u001b[1;32m--> 417\u001b[0m \u001b[39mreturn\u001b[39;00m \u001b[39mself\u001b[39;49m\u001b[39m.\u001b[39;49m_execute(Command\u001b[39m.\u001b[39;49mFIND_CHILD_ELEMENT, {\u001b[39m\"\u001b[39;49m\u001b[39musing\u001b[39;49m\u001b[39m\"\u001b[39;49m: by, \u001b[39m\"\u001b[39;49m\u001b[39mvalue\u001b[39;49m\u001b[39m\"\u001b[39;49m: value})[\u001b[39m\"\u001b[39m\u001b[39mvalue\u001b[39m\u001b[39m\"\u001b[39m]\n",
      "File \u001b[1;32mc:\\Users\\polit\\Documents\\GITHUB\\Cedula_Scraper\\cedula\\Lib\\site-packages\\selenium\\webdriver\\remote\\webelement.py:395\u001b[0m, in \u001b[0;36mWebElement._execute\u001b[1;34m(self, command, params)\u001b[0m\n\u001b[0;32m    393\u001b[0m     params \u001b[39m=\u001b[39m {}\n\u001b[0;32m    394\u001b[0m params[\u001b[39m\"\u001b[39m\u001b[39mid\u001b[39m\u001b[39m\"\u001b[39m] \u001b[39m=\u001b[39m \u001b[39mself\u001b[39m\u001b[39m.\u001b[39m_id\n\u001b[1;32m--> 395\u001b[0m \u001b[39mreturn\u001b[39;00m \u001b[39mself\u001b[39;49m\u001b[39m.\u001b[39;49m_parent\u001b[39m.\u001b[39;49mexecute(command, params)\n",
      "File \u001b[1;32mc:\\Users\\polit\\Documents\\GITHUB\\Cedula_Scraper\\cedula\\Lib\\site-packages\\selenium\\webdriver\\remote\\webdriver.py:345\u001b[0m, in \u001b[0;36mWebDriver.execute\u001b[1;34m(self, driver_command, params)\u001b[0m\n\u001b[0;32m    343\u001b[0m response \u001b[39m=\u001b[39m \u001b[39mself\u001b[39m\u001b[39m.\u001b[39mcommand_executor\u001b[39m.\u001b[39mexecute(driver_command, params)\n\u001b[0;32m    344\u001b[0m \u001b[39mif\u001b[39;00m response:\n\u001b[1;32m--> 345\u001b[0m     \u001b[39mself\u001b[39;49m\u001b[39m.\u001b[39;49merror_handler\u001b[39m.\u001b[39;49mcheck_response(response)\n\u001b[0;32m    346\u001b[0m     response[\u001b[39m\"\u001b[39m\u001b[39mvalue\u001b[39m\u001b[39m\"\u001b[39m] \u001b[39m=\u001b[39m \u001b[39mself\u001b[39m\u001b[39m.\u001b[39m_unwrap_value(response\u001b[39m.\u001b[39mget(\u001b[39m\"\u001b[39m\u001b[39mvalue\u001b[39m\u001b[39m\"\u001b[39m, \u001b[39mNone\u001b[39;00m))\n\u001b[0;32m    347\u001b[0m     \u001b[39mreturn\u001b[39;00m response\n",
      "File \u001b[1;32mc:\\Users\\polit\\Documents\\GITHUB\\Cedula_Scraper\\cedula\\Lib\\site-packages\\selenium\\webdriver\\remote\\errorhandler.py:229\u001b[0m, in \u001b[0;36mErrorHandler.check_response\u001b[1;34m(self, response)\u001b[0m\n\u001b[0;32m    227\u001b[0m         alert_text \u001b[39m=\u001b[39m value[\u001b[39m\"\u001b[39m\u001b[39malert\u001b[39m\u001b[39m\"\u001b[39m]\u001b[39m.\u001b[39mget(\u001b[39m\"\u001b[39m\u001b[39mtext\u001b[39m\u001b[39m\"\u001b[39m)\n\u001b[0;32m    228\u001b[0m     \u001b[39mraise\u001b[39;00m exception_class(message, screen, stacktrace, alert_text)  \u001b[39m# type: ignore[call-arg]  # mypy is not smart enough here\u001b[39;00m\n\u001b[1;32m--> 229\u001b[0m \u001b[39mraise\u001b[39;00m exception_class(message, screen, stacktrace)\n",
      "\u001b[1;31mNoSuchElementException\u001b[0m: Message: no such element: Unable to locate element: {\"method\":\"css selector\",\"selector\":\".col-xs-12.col-md-8.texto.rcGobernadores\"}\n  (Session info: chrome=116.0.5845.111); For documentation on this error, please visit: https://www.selenium.dev/documentation/webdriver/troubleshooting/errors#no-such-element-exception\nStacktrace:\n\tGetHandleVerifier [0x00007FF631D352A2+57122]\n\t(No symbol) [0x00007FF631CAEA92]\n\t(No symbol) [0x00007FF631B7E3AB]\n\t(No symbol) [0x00007FF631BB7D3E]\n\t(No symbol) [0x00007FF631BB7E2C]\n\t(No symbol) [0x00007FF631BAEC3C]\n\t(No symbol) [0x00007FF631BD701F]\n\t(No symbol) [0x00007FF631BAEB76]\n\t(No symbol) [0x00007FF631BD71F0]\n\t(No symbol) [0x00007FF631BEEB82]\n\t(No symbol) [0x00007FF631BD6DB3]\n\t(No symbol) [0x00007FF631BAD2B1]\n\t(No symbol) [0x00007FF631BAE494]\n\tGetHandleVerifier [0x00007FF631FDEF82+2849794]\n\tGetHandleVerifier [0x00007FF632031D24+3189156]\n\tGetHandleVerifier [0x00007FF63202ACAF+3160367]\n\tGetHandleVerifier [0x00007FF631DC6D06+653702]\n\t(No symbol) [0x00007FF631CBA208]\n\t(No symbol) [0x00007FF631CB62C4]\n\t(No symbol) [0x00007FF631CB63F6]\n\t(No symbol) [0x00007FF631CA67A3]\n\tBaseThreadInitThunk [0x00007FFF952C26AD+29]\n\tRtlUserThreadStart [0x00007FFF960CAA68+40]\n"
     ]
    }
   ],
   "source": [
    "from selenium import webdriver\n",
    "from selenium.webdriver.common.by import By\n",
    "import re\n",
    "\n",
    "# Configura el controlador de Chrome\n",
    "driver = webdriver.Chrome()\n",
    "\n",
    "# Abre la página web\n",
    "url = 'https://www.conago.org.mx/gobernadores'\n",
    "driver.get(url)\n",
    "\n",
    "# Localiza los elementos de interés\n",
    "elementos = driver.find_elements(By.CLASS_NAME, 'col-xs-12.col-md-8.texto.rcGobernadores')\n",
    "\n",
    "\n",
    "\n",
    "for elemento in elementos:\n",
    "    nombre_gobernador = elemento.find_element(By.TAG_NAME, 'h4').text\n",
    "    texto_completo = elemento.find_element(By.CLASS_NAME, 'col-xs-12 col-md-8 texto rcGobernadores').text\n",
    "    \n",
    "    # Usar una expresión regular para encontrar el patrón de fecha\n",
    "    fecha_pattern = r'\\d{2}/\\d{2}/\\d{4}'\n",
    "    fechas = re.findall(fecha_pattern, texto_completo)\n",
    "    \n",
    "    if len(fechas) >= 2:\n",
    "        fecha_inicio = fechas[0]\n",
    "        fecha_fin = fechas[1]\n",
    "    else:\n",
    "        fecha_inicio = \"Fecha no disponible\"\n",
    "        fecha_fin = \"Fecha no disponible\"\n",
    "\n",
    "    print(\"Nombre:\", nombre_gobernador)\n",
    "    print(\"Fecha de Inicio:\", fecha_inicio)\n",
    "    print(\"Fecha de Fin:\", fecha_fin)\n",
    "    print()\n",
    "\n",
    "\n",
    "\n",
    "# Cierra el navegador\n",
    "driver.quit()\n",
    "\n"
   ]
  },
  {
   "cell_type": "code",
   "execution_count": null,
   "metadata": {},
   "outputs": [],
   "source": [
    "\n"
   ]
  }
 ],
 "metadata": {
  "kernelspec": {
   "display_name": "Python 3",
   "language": "python",
   "name": "python3"
  },
  "language_info": {
   "codemirror_mode": {
    "name": "ipython",
    "version": 3
   },
   "file_extension": ".py",
   "mimetype": "text/x-python",
   "name": "python",
   "nbconvert_exporter": "python",
   "pygments_lexer": "ipython3",
   "version": "3.11.4"
  },
  "orig_nbformat": 4
 },
 "nbformat": 4,
 "nbformat_minor": 2
}
