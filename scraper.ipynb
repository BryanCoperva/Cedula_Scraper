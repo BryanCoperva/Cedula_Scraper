{
 "cells": [
  {
   "cell_type": "markdown",
   "metadata": {},
   "source": [
    "# Scrapper para obtener cédula profesional"
   ]
  },
  {
   "cell_type": "markdown",
   "metadata": {},
   "source": [
    "## Instalación de librerías"
   ]
  },
  {
   "cell_type": "code",
   "execution_count": 1,
   "metadata": {},
   "outputs": [],
   "source": [
    "from selenium import webdriver\n",
    "from selenium.webdriver.common.by import By\n",
    "from selenium.webdriver.common.keys import Keys\n",
    "from selenium.webdriver.chrome.options import Options\n",
    "from selenium.webdriver.support.ui import WebDriverWait\n",
    "from selenium.webdriver.support import expected_conditions as EC\n",
    "from selenium.common.exceptions import TimeoutException\n",
    "import time\n",
    "import pandas as pd\n",
    "from funciones import *"
   ]
  },
  {
   "cell_type": "markdown",
   "metadata": {},
   "source": [
    "## Buscar por registro"
   ]
  },
  {
   "cell_type": "code",
   "execution_count": 2,
   "metadata": {},
   "outputs": [
    {
     "name": "stdout",
     "output_type": "stream",
     "text": [
      "Cantidad de registros: 2\n",
      "Cantidad de registros: 2\n",
      "None\n"
     ]
    }
   ],
   "source": [
    "url = 'https://cedulaprofesionalsep.online/#Consulta_de_Cedula_Profesional'\n",
    "driver = webdriver.Chrome()\n",
    "iniciar_scraper(driver, url, wait_condition=True, class_name='tp-gateway-button')\n",
    "resultado = cédula_profesional(driver, \"Luis\", \"Cruz\", \"Jaramillo\")\n",
    "print(resultado)"
   ]
  },
  {
   "cell_type": "markdown",
   "metadata": {},
   "source": [
    "## Buscar por csv"
   ]
  },
  {
   "cell_type": "code",
   "execution_count": null,
   "metadata": {},
   "outputs": [],
   "source": [
    "init = 0\n",
    "final = 2000\n",
    "excel_file = 'Z:/Data/HSBC/Assignments/ASG_TDC_IA_JAN_JUNE.xlsx'\n",
    "result_df = process_excel_file(init, final, excel_file)\n",
    "print(result_df.head())"
   ]
  },
  {
   "cell_type": "code",
   "execution_count": null,
   "metadata": {},
   "outputs": [
    {
     "data": {
      "text/html": [
       "<div>\n",
       "<style scoped>\n",
       "    .dataframe tbody tr th:only-of-type {\n",
       "        vertical-align: middle;\n",
       "    }\n",
       "\n",
       "    .dataframe tbody tr th {\n",
       "        vertical-align: top;\n",
       "    }\n",
       "\n",
       "    .dataframe thead th {\n",
       "        text-align: right;\n",
       "    }\n",
       "</style>\n",
       "<table border=\"1\" class=\"dataframe\">\n",
       "  <thead>\n",
       "    <tr style=\"text-align: right;\">\n",
       "      <th></th>\n",
       "      <th>Nombre</th>\n",
       "      <th>NombreSplit</th>\n",
       "      <th>Paterno</th>\n",
       "      <th>Materno</th>\n",
       "    </tr>\n",
       "  </thead>\n",
       "  <tbody>\n",
       "    <tr>\n",
       "      <th>0</th>\n",
       "      <td>raul emanuelle</td>\n",
       "      <td>[raul emanuelle, segura, miranda]</td>\n",
       "      <td>segura</td>\n",
       "      <td>miranda</td>\n",
       "    </tr>\n",
       "    <tr>\n",
       "      <th>1</th>\n",
       "      <td>carlos</td>\n",
       "      <td>[carlos, molinar, varela]</td>\n",
       "      <td>molinar</td>\n",
       "      <td>varela</td>\n",
       "    </tr>\n",
       "    <tr>\n",
       "      <th>2</th>\n",
       "      <td>rene de jesus</td>\n",
       "      <td>[rene de jesus, mena, chavez]</td>\n",
       "      <td>mena</td>\n",
       "      <td>chavez</td>\n",
       "    </tr>\n",
       "    <tr>\n",
       "      <th>3</th>\n",
       "      <td>ana luisa</td>\n",
       "      <td>[ana luisa, aparicio, ruiz]</td>\n",
       "      <td>aparicio</td>\n",
       "      <td>ruiz</td>\n",
       "    </tr>\n",
       "    <tr>\n",
       "      <th>4</th>\n",
       "      <td>maria de la luz eugenia</td>\n",
       "      <td>[maria de la luz eugenia, rivero, aguilar]</td>\n",
       "      <td>rivero</td>\n",
       "      <td>aguilar</td>\n",
       "    </tr>\n",
       "  </tbody>\n",
       "</table>\n",
       "</div>"
      ],
      "text/plain": [
       "                    Nombre                                 NombreSplit  \\\n",
       "0           raul emanuelle           [raul emanuelle, segura, miranda]   \n",
       "1                   carlos                   [carlos, molinar, varela]   \n",
       "2            rene de jesus               [rene de jesus, mena, chavez]   \n",
       "3                ana luisa                 [ana luisa, aparicio, ruiz]   \n",
       "4  maria de la luz eugenia  [maria de la luz eugenia, rivero, aguilar]   \n",
       "\n",
       "    Paterno  Materno  \n",
       "0    segura  miranda  \n",
       "1   molinar   varela  \n",
       "2      mena   chavez  \n",
       "3  aparicio     ruiz  \n",
       "4    rivero  aguilar  "
      ]
     },
     "execution_count": 16,
     "metadata": {},
     "output_type": "execute_result"
    }
   ],
   "source": [
    "init=0\n",
    "final=2000\n",
    "\n",
    "df = pd.read_excel('Z:/Data/HSBC/Asignaciones/ASG_TDC_IA_ENERO_JUNIO.xlsx')\n",
    "df['Nombre'] = df.Nombre.apply(lambda X: X.replace('/', ' ').replace('*', '').rstrip())\n",
    "df_filtered = df['Nombre']\n",
    "df_filtered.drop_duplicates(inplace=True)\n",
    "df_input = pd.DataFrame(df_filtered).iloc[init:final]\n",
    "\n",
    "\n",
    "\n",
    "df_input['NombreSplit'] = df_input.Nombre.apply(lambda X: split_name(X))\n",
    "df_input['Nombre'] = df_input.NombreSplit.apply(lambda X: X[0])\n",
    "df_input['Paterno'] = df_input.NombreSplit.apply(lambda X: X[1])\n",
    "df_input['Materno'] = df_input.NombreSplit.apply(lambda X: X[2])\n",
    "# Cambiar nombre\n",
    "#df.rename(columns={'Nombre':'Nombre'}, inplace=True)\n",
    "df_input.head()"
   ]
  },
  {
   "cell_type": "markdown",
   "metadata": {},
   "source": [
    "### Scrapper"
   ]
  },
  {
   "cell_type": "code",
   "execution_count": null,
   "metadata": {},
   "outputs": [
    {
     "name": "stdout",
     "output_type": "stream",
     "text": [
      "Cantidad de registros: 2\n",
      "Cantidad de registros: 2\n",
      "Cantidad de registros: 2\n",
      "Cantidad de registros: 2\n"
     ]
    }
   ],
   "source": [
    "data=[]\n",
    "for index, row in df.iterrows():\n",
    "    nombre=row['Nombre']\n",
    "    paterno=row['Paterno']\n",
    "    materno=row['Materno']\n",
    "    # Ingresar nombres\n",
    "    celda_nombre = driver.find_element(By.XPATH, '//*[@id=\"input-nombre\"]')\n",
    "    celda_nombre.send_keys(str(nombre))\n",
    "\n",
    "    #Ingresar Apellido Paterno\n",
    "    celda_paterno = driver.find_element(By.XPATH, '//*[@id=\"input-apaterno\"]')\n",
    "    celda_paterno.send_keys(str(paterno))\n",
    "\n",
    "    # Ingresar Apellido Materno\n",
    "    celda_materno = driver.find_element(By.XPATH, '//*[@id=\"input-amaterno\"]')\n",
    "    celda_materno.send_keys(str(materno))\n",
    "\n",
    "    # Click en botón buscar\n",
    "    buscar = driver.find_element(By.XPATH, '//*[@id=\"container-form-1\"]/form/div[4]/div/input')\n",
    "    buscar.click()\n",
    "    time.sleep(2)\n",
    "\n",
    "    max_wait_time = 5  # Tiempo máximo de espera en segundos\n",
    "    start_time = time.time()  # Momento de inicio de espera\n",
    "\n",
    "    while time.time() - start_time < max_wait_time:\n",
    "        try:\n",
    "            alert = driver.switch_to.alert\n",
    "            alert.accept()\n",
    "            driver.refresh()\n",
    "            break  # Salir del bucle si se encuentra la ventana emergente\n",
    "        except:\n",
    "\n",
    "            time.sleep(1)  # Esperar 1 segundo antes de intentar nuevamente\n",
    "            \n",
    "            \n",
    "\n",
    "    #tabla = driver.find_elements(By.XPATH, '//*[@id=\"result_table_row\"]/tr[1]/td[3]/input')\n",
    "        \n",
    "        # Encontrar botones ver-mas\n",
    "    ver_botones = driver.find_elements(By.CLASS_NAME, 'ver-mas')\n",
    "        # Iterar sobre los botones\n",
    "    \n",
    "    \n",
    "    for ver in ver_botones:\n",
    "        cantidad_registros = len(ver_botones)\n",
    "        print(\"Cantidad de registros:\", cantidad_registros)\n",
    "\n",
    "        #time.sleep()\n",
    "        ver.click()\n",
    "        \n",
    "        # Encontrar los elementos de entrada de texto por su id\n",
    "        input_cedula = driver.find_element(By.ID, \"input-cedula-result\")\n",
    "        input_tipo = driver.find_element(By.ID, \"input-tipo-result\")\n",
    "        input_sexo = driver.find_element(By.ID, \"input-sexo-result\")\n",
    "        input_nombre = driver.find_element(By.ID, \"input-nombre-result\")\n",
    "        input_paterno = driver.find_element(By.ID, \"input-paterno-result\")\n",
    "        input_materno = driver.find_element(By.ID, \"input-materno-result\")\n",
    "        input_escuela = driver.find_element(By.ID, \"input-escuela-result\")\n",
    "        input_titulo = driver.find_element(By.ID, \"input-titulo-result\")\n",
    "\n",
    "        # Obtener los valores de los campos\n",
    "        valor_cedula = input_cedula.get_attribute(\"value\")\n",
    "        valor_tipo = input_tipo.get_attribute(\"value\")\n",
    "        valor_sexo = input_sexo.get_attribute(\"value\")\n",
    "        valor_nombre = input_nombre.get_attribute(\"value\")\n",
    "        valor_paterno = input_paterno.get_attribute(\"value\")\n",
    "        valor_materno = input_materno.get_attribute(\"value\")\n",
    "        valor_escuela = input_escuela.get_attribute(\"value\")\n",
    "        valor_titulo = input_titulo.get_attribute(\"value\")\n",
    "\n",
    "        # Agregar los valores a la lista de diccionarios\n",
    "        data.append({\n",
    "        \"Cédula\": valor_cedula,\n",
    "        \"Tipo de Cédula\": valor_tipo,\n",
    "        \"Sexo\": valor_sexo,\n",
    "        \"Nombre\": valor_nombre,\n",
    "        \"Paterno\": valor_paterno,\n",
    "        \"Materno\": valor_materno,\n",
    "        \"Escuela\": valor_escuela,\n",
    "        \"Título\": valor_titulo\n",
    "        })\n",
    "        # Encontrar los elementos de entrada de texto por su id\n",
    "        cerrar = driver.find_element(By.XPATH, '//*[@id=\"cerrar_resut_personal\"]')\n",
    "        cerrar.click()\n",
    "    driver.refresh()\n",
    "\n",
    "        \n",
    "df_data = pd.DataFrame(data)\n",
    "    "
   ]
  }
 ],
 "metadata": {
  "kernelspec": {
   "display_name": "base",
   "language": "python",
   "name": "python3"
  },
  "language_info": {
   "codemirror_mode": {
    "name": "ipython",
    "version": 3
   },
   "file_extension": ".py",
   "mimetype": "text/x-python",
   "name": "python",
   "nbconvert_exporter": "python",
   "pygments_lexer": "ipython3",
   "version": "3.11.4"
  },
  "orig_nbformat": 4
 },
 "nbformat": 4,
 "nbformat_minor": 2
}
