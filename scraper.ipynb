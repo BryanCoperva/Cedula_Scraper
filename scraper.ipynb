{
 "cells": [
  {
   "cell_type": "markdown",
   "metadata": {},
   "source": [
    "# Scrapper para obtener cédula profesional"
   ]
  },
  {
   "cell_type": "code",
   "execution_count": 2,
   "metadata": {},
   "outputs": [
    {
     "ename": "ModuleNotFoundError",
     "evalue": "No module named 'seleniumbase'",
     "output_type": "error",
     "traceback": [
      "\u001b[1;31m---------------------------------------------------------------------------\u001b[0m",
      "\u001b[1;31mModuleNotFoundError\u001b[0m                       Traceback (most recent call last)",
      "Cell \u001b[1;32mIn[2], line 10\u001b[0m\n\u001b[0;32m      8\u001b[0m \u001b[39mimport\u001b[39;00m \u001b[39mtime\u001b[39;00m\n\u001b[0;32m      9\u001b[0m \u001b[39mimport\u001b[39;00m \u001b[39mpandas\u001b[39;00m \u001b[39mas\u001b[39;00m \u001b[39mpd\u001b[39;00m\n\u001b[1;32m---> 10\u001b[0m \u001b[39mfrom\u001b[39;00m \u001b[39mfunciones\u001b[39;00m \u001b[39mimport\u001b[39;00m \u001b[39m*\u001b[39m\n",
      "File \u001b[1;32mc:\\Users\\polit\\Documents\\GITHUB\\Cedula_Scraper\\funciones.py:2\u001b[0m\n\u001b[0;32m      1\u001b[0m \u001b[39mfrom\u001b[39;00m \u001b[39mselenium\u001b[39;00m \u001b[39mimport\u001b[39;00m webdriver\n\u001b[1;32m----> 2\u001b[0m \u001b[39mfrom\u001b[39;00m \u001b[39mseleniumbase\u001b[39;00m \u001b[39mimport\u001b[39;00m Driver\n\u001b[0;32m      3\u001b[0m \u001b[39mfrom\u001b[39;00m \u001b[39mselenium\u001b[39;00m\u001b[39m.\u001b[39;00m\u001b[39mwebdriver\u001b[39;00m\u001b[39m.\u001b[39;00m\u001b[39mcommon\u001b[39;00m\u001b[39m.\u001b[39;00m\u001b[39mby\u001b[39;00m \u001b[39mimport\u001b[39;00m By\n\u001b[0;32m      4\u001b[0m \u001b[39mfrom\u001b[39;00m \u001b[39mselenium\u001b[39;00m\u001b[39m.\u001b[39;00m\u001b[39mwebdriver\u001b[39;00m\u001b[39m.\u001b[39;00m\u001b[39mcommon\u001b[39;00m\u001b[39m.\u001b[39;00m\u001b[39mkeys\u001b[39;00m \u001b[39mimport\u001b[39;00m Keys\n",
      "\u001b[1;31mModuleNotFoundError\u001b[0m: No module named 'seleniumbase'"
     ]
    }
   ],
   "source": [
    "from selenium import webdriver\n",
    "from selenium.webdriver.common.by import By\n",
    "from selenium.webdriver.common.keys import Keys\n",
    "from selenium.webdriver.chrome.options import Options\n",
    "from selenium.webdriver.support.ui import WebDriverWait\n",
    "from selenium.webdriver.support import expected_conditions as EC\n",
    "from selenium.common.exceptions import TimeoutException\n",
    "import time\n",
    "import pandas as pd\n",
    "from funciones import *"
   ]
  },
  {
   "cell_type": "markdown",
   "metadata": {},
   "source": [
    "## Conexión al navegador"
   ]
  },
  {
   "cell_type": "code",
   "execution_count": null,
   "metadata": {},
   "outputs": [],
   "source": [
    "url = 'https://www.conago.org.mx/gobernadores'\n",
    "zoom_percentage = '50'\n",
    "\n",
    "driver = iniciar_scraper(url, zoom_percentage, execute_zoom=False)"
   ]
  },
  {
   "cell_type": "code",
   "execution_count": 2,
   "metadata": {},
   "outputs": [
    {
     "name": "stderr",
     "output_type": "stream",
     "text": [
      "Error getting version of chromedriver 116. Retrying with chromedriver 115 (attempt 1/5)\n",
      "Error getting version of chromedriver 115. Retrying with chromedriver 114 (attempt 2/5)\n"
     ]
    },
    {
     "ename": "SessionNotCreatedException",
     "evalue": "Message: session not created: This version of ChromeDriver only supports Chrome version 114\nCurrent browser version is 116.0.5845.111 with binary path C:\\Program Files\\Google\\Chrome\\Application\\chrome.exe\nStacktrace:\nBacktrace:\n\tGetHandleVerifier [0x00DFA813+48355]\n\t(No symbol) [0x00D8C4B1]\n\t(No symbol) [0x00C95358]\n\t(No symbol) [0x00CB61AC]\n\t(No symbol) [0x00CB1EF3]\n\t(No symbol) [0x00CB0579]\n\t(No symbol) [0x00CE0C55]\n\t(No symbol) [0x00CE093C]\n\t(No symbol) [0x00CDA536]\n\t(No symbol) [0x00CB82DC]\n\t(No symbol) [0x00CB93DD]\n\tGetHandleVerifier [0x0105AABD+2539405]\n\tGetHandleVerifier [0x0109A78F+2800735]\n\tGetHandleVerifier [0x0109456C+2775612]\n\tGetHandleVerifier [0x00E851E0+616112]\n\t(No symbol) [0x00D95F8C]\n\t(No symbol) [0x00D92328]\n\t(No symbol) [0x00D9240B]\n\t(No symbol) [0x00D84FF7]\n\tBaseThreadInitThunk [0x76367D59+25]\n\tRtlInitializeExceptionChain [0x77B1B79B+107]\n\tRtlClearBits [0x77B1B71F+191]\n",
     "output_type": "error",
     "traceback": [
      "\u001b[1;31m---------------------------------------------------------------------------\u001b[0m",
      "\u001b[1;31mSessionNotCreatedException\u001b[0m                Traceback (most recent call last)",
      "Cell \u001b[1;32mIn[2], line 4\u001b[0m\n\u001b[0;32m      1\u001b[0m url \u001b[39m=\u001b[39m \u001b[39m'\u001b[39m\u001b[39mhttps://cedulaprofesionalsep.online/#Consulta_de_Cedula_Profesional\u001b[39m\u001b[39m'\u001b[39m\n\u001b[0;32m      2\u001b[0m zoom_percentage \u001b[39m=\u001b[39m \u001b[39m'\u001b[39m\u001b[39m50\u001b[39m\u001b[39m'\u001b[39m\n\u001b[1;32m----> 4\u001b[0m driver \u001b[39m=\u001b[39m iniciar_scraper(url, zoom_percentage, execute_zoom\u001b[39m=\u001b[39;49m\u001b[39mFalse\u001b[39;49;00m)\n",
      "File \u001b[1;32mc:\\Users\\polit\\Documents\\GITHUB\\Cedula_Scraper\\funciones.py:83\u001b[0m, in \u001b[0;36miniciar_scraper\u001b[1;34m(url, zoom_percentage, execute_zoom)\u001b[0m\n\u001b[0;32m     71\u001b[0m \u001b[39m\u001b[39m\u001b[39m\"\"\"\u001b[39;00m\n\u001b[0;32m     72\u001b[0m \u001b[39mInitialize a Chrome browser for web scraping on a specified URL.\u001b[39;00m\n\u001b[0;32m     73\u001b[0m \n\u001b[1;32m   (...)\u001b[0m\n\u001b[0;32m     80\u001b[0m \u001b[39m    WebDriver: An instance of the Selenium WebDriver with the loaded page.\u001b[39;00m\n\u001b[0;32m     81\u001b[0m \u001b[39m\"\"\"\u001b[39;00m\n\u001b[0;32m     82\u001b[0m chrome_options \u001b[39m=\u001b[39m Options()\n\u001b[1;32m---> 83\u001b[0m driver \u001b[39m=\u001b[39m webdriver\u001b[39m.\u001b[39;49mChrome(options\u001b[39m=\u001b[39;49mchrome_options)\n\u001b[0;32m     84\u001b[0m driver\u001b[39m.\u001b[39mget(url)\n\u001b[0;32m     86\u001b[0m \u001b[39mif\u001b[39;00m execute_zoom:\n",
      "File \u001b[1;32mc:\\Users\\polit\\AppData\\Local\\Programs\\Python\\Python311\\Lib\\site-packages\\selenium\\webdriver\\chrome\\webdriver.py:49\u001b[0m, in \u001b[0;36mWebDriver.__init__\u001b[1;34m(self, options, service, keep_alive)\u001b[0m\n\u001b[0;32m     45\u001b[0m \u001b[39mself\u001b[39m\u001b[39m.\u001b[39mkeep_alive \u001b[39m=\u001b[39m keep_alive\n\u001b[0;32m     47\u001b[0m \u001b[39mself\u001b[39m\u001b[39m.\u001b[39mservice\u001b[39m.\u001b[39mpath \u001b[39m=\u001b[39m DriverFinder\u001b[39m.\u001b[39mget_path(\u001b[39mself\u001b[39m\u001b[39m.\u001b[39mservice, \u001b[39mself\u001b[39m\u001b[39m.\u001b[39moptions)\n\u001b[1;32m---> 49\u001b[0m \u001b[39msuper\u001b[39;49m()\u001b[39m.\u001b[39;49m\u001b[39m__init__\u001b[39;49m(\n\u001b[0;32m     50\u001b[0m     DesiredCapabilities\u001b[39m.\u001b[39;49mCHROME[\u001b[39m\"\u001b[39;49m\u001b[39mbrowserName\u001b[39;49m\u001b[39m\"\u001b[39;49m],\n\u001b[0;32m     51\u001b[0m     \u001b[39m\"\u001b[39;49m\u001b[39mgoog\u001b[39;49m\u001b[39m\"\u001b[39;49m,\n\u001b[0;32m     52\u001b[0m     \u001b[39mself\u001b[39;49m\u001b[39m.\u001b[39;49moptions,\n\u001b[0;32m     53\u001b[0m     \u001b[39mself\u001b[39;49m\u001b[39m.\u001b[39;49mservice,\n\u001b[0;32m     54\u001b[0m     \u001b[39mself\u001b[39;49m\u001b[39m.\u001b[39;49mkeep_alive,\n\u001b[0;32m     55\u001b[0m )\n",
      "File \u001b[1;32mc:\\Users\\polit\\AppData\\Local\\Programs\\Python\\Python311\\Lib\\site-packages\\selenium\\webdriver\\chromium\\webdriver.py:54\u001b[0m, in \u001b[0;36mChromiumDriver.__init__\u001b[1;34m(self, browser_name, vendor_prefix, options, service, keep_alive)\u001b[0m\n\u001b[0;32m     51\u001b[0m \u001b[39mself\u001b[39m\u001b[39m.\u001b[39mservice\u001b[39m.\u001b[39mstart()\n\u001b[0;32m     53\u001b[0m \u001b[39mtry\u001b[39;00m:\n\u001b[1;32m---> 54\u001b[0m     \u001b[39msuper\u001b[39;49m()\u001b[39m.\u001b[39;49m\u001b[39m__init__\u001b[39;49m(\n\u001b[0;32m     55\u001b[0m         command_executor\u001b[39m=\u001b[39;49mChromiumRemoteConnection(\n\u001b[0;32m     56\u001b[0m             remote_server_addr\u001b[39m=\u001b[39;49m\u001b[39mself\u001b[39;49m\u001b[39m.\u001b[39;49mservice\u001b[39m.\u001b[39;49mservice_url,\n\u001b[0;32m     57\u001b[0m             browser_name\u001b[39m=\u001b[39;49mbrowser_name,\n\u001b[0;32m     58\u001b[0m             vendor_prefix\u001b[39m=\u001b[39;49mvendor_prefix,\n\u001b[0;32m     59\u001b[0m             keep_alive\u001b[39m=\u001b[39;49mkeep_alive,\n\u001b[0;32m     60\u001b[0m             ignore_proxy\u001b[39m=\u001b[39;49m\u001b[39mself\u001b[39;49m\u001b[39m.\u001b[39;49moptions\u001b[39m.\u001b[39;49m_ignore_local_proxy,\n\u001b[0;32m     61\u001b[0m         ),\n\u001b[0;32m     62\u001b[0m         options\u001b[39m=\u001b[39;49m\u001b[39mself\u001b[39;49m\u001b[39m.\u001b[39;49moptions,\n\u001b[0;32m     63\u001b[0m     )\n\u001b[0;32m     64\u001b[0m \u001b[39mexcept\u001b[39;00m \u001b[39mException\u001b[39;00m:\n\u001b[0;32m     65\u001b[0m     \u001b[39mself\u001b[39m\u001b[39m.\u001b[39mquit()\n",
      "File \u001b[1;32mc:\\Users\\polit\\AppData\\Local\\Programs\\Python\\Python311\\Lib\\site-packages\\selenium\\webdriver\\remote\\webdriver.py:206\u001b[0m, in \u001b[0;36mWebDriver.__init__\u001b[1;34m(self, command_executor, keep_alive, file_detector, options)\u001b[0m\n\u001b[0;32m    204\u001b[0m \u001b[39mself\u001b[39m\u001b[39m.\u001b[39m_authenticator_id \u001b[39m=\u001b[39m \u001b[39mNone\u001b[39;00m\n\u001b[0;32m    205\u001b[0m \u001b[39mself\u001b[39m\u001b[39m.\u001b[39mstart_client()\n\u001b[1;32m--> 206\u001b[0m \u001b[39mself\u001b[39;49m\u001b[39m.\u001b[39;49mstart_session(capabilities)\n",
      "File \u001b[1;32mc:\\Users\\polit\\AppData\\Local\\Programs\\Python\\Python311\\Lib\\site-packages\\selenium\\webdriver\\remote\\webdriver.py:291\u001b[0m, in \u001b[0;36mWebDriver.start_session\u001b[1;34m(self, capabilities)\u001b[0m\n\u001b[0;32m    283\u001b[0m \u001b[39m\u001b[39m\u001b[39m\"\"\"Creates a new session with the desired capabilities.\u001b[39;00m\n\u001b[0;32m    284\u001b[0m \n\u001b[0;32m    285\u001b[0m \u001b[39m:Args:\u001b[39;00m\n\u001b[0;32m    286\u001b[0m \u001b[39m - capabilities - a capabilities dict to start the session with.\u001b[39;00m\n\u001b[0;32m    287\u001b[0m \u001b[39m - browser_profile - A selenium.webdriver.firefox.firefox_profile.FirefoxProfile object. Only used if Firefox is requested.\u001b[39;00m\n\u001b[0;32m    288\u001b[0m \u001b[39m\"\"\"\u001b[39;00m\n\u001b[0;32m    290\u001b[0m caps \u001b[39m=\u001b[39m _create_caps(capabilities)\n\u001b[1;32m--> 291\u001b[0m response \u001b[39m=\u001b[39m \u001b[39mself\u001b[39;49m\u001b[39m.\u001b[39;49mexecute(Command\u001b[39m.\u001b[39;49mNEW_SESSION, caps)[\u001b[39m\"\u001b[39m\u001b[39mvalue\u001b[39m\u001b[39m\"\u001b[39m]\n\u001b[0;32m    292\u001b[0m \u001b[39mself\u001b[39m\u001b[39m.\u001b[39msession_id \u001b[39m=\u001b[39m response\u001b[39m.\u001b[39mget(\u001b[39m\"\u001b[39m\u001b[39msessionId\u001b[39m\u001b[39m\"\u001b[39m)\n\u001b[0;32m    293\u001b[0m \u001b[39mself\u001b[39m\u001b[39m.\u001b[39mcaps \u001b[39m=\u001b[39m response\u001b[39m.\u001b[39mget(\u001b[39m\"\u001b[39m\u001b[39mcapabilities\u001b[39m\u001b[39m\"\u001b[39m)\n",
      "File \u001b[1;32mc:\\Users\\polit\\AppData\\Local\\Programs\\Python\\Python311\\Lib\\site-packages\\selenium\\webdriver\\remote\\webdriver.py:346\u001b[0m, in \u001b[0;36mWebDriver.execute\u001b[1;34m(self, driver_command, params)\u001b[0m\n\u001b[0;32m    344\u001b[0m response \u001b[39m=\u001b[39m \u001b[39mself\u001b[39m\u001b[39m.\u001b[39mcommand_executor\u001b[39m.\u001b[39mexecute(driver_command, params)\n\u001b[0;32m    345\u001b[0m \u001b[39mif\u001b[39;00m response:\n\u001b[1;32m--> 346\u001b[0m     \u001b[39mself\u001b[39;49m\u001b[39m.\u001b[39;49merror_handler\u001b[39m.\u001b[39;49mcheck_response(response)\n\u001b[0;32m    347\u001b[0m     response[\u001b[39m\"\u001b[39m\u001b[39mvalue\u001b[39m\u001b[39m\"\u001b[39m] \u001b[39m=\u001b[39m \u001b[39mself\u001b[39m\u001b[39m.\u001b[39m_unwrap_value(response\u001b[39m.\u001b[39mget(\u001b[39m\"\u001b[39m\u001b[39mvalue\u001b[39m\u001b[39m\"\u001b[39m, \u001b[39mNone\u001b[39;00m))\n\u001b[0;32m    348\u001b[0m     \u001b[39mreturn\u001b[39;00m response\n",
      "File \u001b[1;32mc:\\Users\\polit\\AppData\\Local\\Programs\\Python\\Python311\\Lib\\site-packages\\selenium\\webdriver\\remote\\errorhandler.py:245\u001b[0m, in \u001b[0;36mErrorHandler.check_response\u001b[1;34m(self, response)\u001b[0m\n\u001b[0;32m    243\u001b[0m         alert_text \u001b[39m=\u001b[39m value[\u001b[39m\"\u001b[39m\u001b[39malert\u001b[39m\u001b[39m\"\u001b[39m]\u001b[39m.\u001b[39mget(\u001b[39m\"\u001b[39m\u001b[39mtext\u001b[39m\u001b[39m\"\u001b[39m)\n\u001b[0;32m    244\u001b[0m     \u001b[39mraise\u001b[39;00m exception_class(message, screen, stacktrace, alert_text)  \u001b[39m# type: ignore[call-arg]  # mypy is not smart enough here\u001b[39;00m\n\u001b[1;32m--> 245\u001b[0m \u001b[39mraise\u001b[39;00m exception_class(message, screen, stacktrace)\n",
      "\u001b[1;31mSessionNotCreatedException\u001b[0m: Message: session not created: This version of ChromeDriver only supports Chrome version 114\nCurrent browser version is 116.0.5845.111 with binary path C:\\Program Files\\Google\\Chrome\\Application\\chrome.exe\nStacktrace:\nBacktrace:\n\tGetHandleVerifier [0x00DFA813+48355]\n\t(No symbol) [0x00D8C4B1]\n\t(No symbol) [0x00C95358]\n\t(No symbol) [0x00CB61AC]\n\t(No symbol) [0x00CB1EF3]\n\t(No symbol) [0x00CB0579]\n\t(No symbol) [0x00CE0C55]\n\t(No symbol) [0x00CE093C]\n\t(No symbol) [0x00CDA536]\n\t(No symbol) [0x00CB82DC]\n\t(No symbol) [0x00CB93DD]\n\tGetHandleVerifier [0x0105AABD+2539405]\n\tGetHandleVerifier [0x0109A78F+2800735]\n\tGetHandleVerifier [0x0109456C+2775612]\n\tGetHandleVerifier [0x00E851E0+616112]\n\t(No symbol) [0x00D95F8C]\n\t(No symbol) [0x00D92328]\n\t(No symbol) [0x00D9240B]\n\t(No symbol) [0x00D84FF7]\n\tBaseThreadInitThunk [0x76367D59+25]\n\tRtlInitializeExceptionChain [0x77B1B79B+107]\n\tRtlClearBits [0x77B1B71F+191]\n"
     ]
    }
   ],
   "source": [
    "url = 'https://cedulaprofesionalsep.online/#Consulta_de_Cedula_Profesional'\n",
    "zoom_percentage = '50'\n",
    "\n",
    "driver = iniciar_scraper(url, zoom_percentage, execute_zoom=False)"
   ]
  },
  {
   "cell_type": "code",
   "execution_count": null,
   "metadata": {},
   "outputs": [],
   "source": [
    "chrome_options = Options()\n",
    "driver = webdriver.Chrome(options=chrome_options)\n",
    "start_url = 'https://cedulaprofesionalsep.online/#Consulta_de_Cedula_Profesional'\n",
    "driver.get(start_url)\n",
    "# Modificar el tamaño de la ventana\n",
    "#driver.execute_script(\"document.body.style.zoom='50%'\")"
   ]
  },
  {
   "cell_type": "markdown",
   "metadata": {},
   "source": [
    "## Leer archivo CSV y obtener lista de nombres"
   ]
  },
  {
   "cell_type": "code",
   "execution_count": 2,
   "metadata": {},
   "outputs": [
    {
     "ename": "FileNotFoundError",
     "evalue": "[Errno 2] No such file or directory: 'Z:/Data/HSBC/Assignments/ASG_TDC_IA_JAN_JUNE.xlsx'",
     "output_type": "error",
     "traceback": [
      "\u001b[1;31m---------------------------------------------------------------------------\u001b[0m",
      "\u001b[1;31mFileNotFoundError\u001b[0m                         Traceback (most recent call last)",
      "Cell \u001b[1;32mIn[2], line 4\u001b[0m\n\u001b[0;32m      2\u001b[0m final \u001b[39m=\u001b[39m \u001b[39m2000\u001b[39m\n\u001b[0;32m      3\u001b[0m excel_file \u001b[39m=\u001b[39m \u001b[39m'\u001b[39m\u001b[39mZ:/Data/HSBC/Assignments/ASG_TDC_IA_JAN_JUNE.xlsx\u001b[39m\u001b[39m'\u001b[39m\n\u001b[1;32m----> 4\u001b[0m result_df \u001b[39m=\u001b[39m process_excel_file(init, final, excel_file)\n\u001b[0;32m      5\u001b[0m \u001b[39mprint\u001b[39m(result_df\u001b[39m.\u001b[39mhead())\n",
      "File \u001b[1;32mc:\\Users\\polit\\Documents\\GITHUB\\Cedula_Scraper\\funciones.py:24\u001b[0m, in \u001b[0;36mprocess_excel_file\u001b[1;34m(init, final, file_path)\u001b[0m\n\u001b[0;32m     12\u001b[0m \u001b[39mdef\u001b[39;00m \u001b[39mprocess_excel_file\u001b[39m(init, final, file_path):\n\u001b[0;32m     13\u001b[0m \u001b[39m    \u001b[39m\u001b[39m\"\"\"\u001b[39;00m\n\u001b[0;32m     14\u001b[0m \u001b[39m    Process an Excel file, perform data transformations, and return a DataFrame.\u001b[39;00m\n\u001b[0;32m     15\u001b[0m \n\u001b[1;32m   (...)\u001b[0m\n\u001b[0;32m     22\u001b[0m \u001b[39m        pandas.DataFrame: A DataFrame with the processed and transformed data.\u001b[39;00m\n\u001b[0;32m     23\u001b[0m \u001b[39m    \"\"\"\u001b[39;00m\n\u001b[1;32m---> 24\u001b[0m     df \u001b[39m=\u001b[39m pd\u001b[39m.\u001b[39;49mread_excel(file_path)\n\u001b[0;32m     25\u001b[0m     df[\u001b[39m'\u001b[39m\u001b[39mName\u001b[39m\u001b[39m'\u001b[39m] \u001b[39m=\u001b[39m df\u001b[39m.\u001b[39mName\u001b[39m.\u001b[39mapply(\u001b[39mlambda\u001b[39;00m X: X\u001b[39m.\u001b[39mreplace(\u001b[39m'\u001b[39m\u001b[39m/\u001b[39m\u001b[39m'\u001b[39m, \u001b[39m'\u001b[39m\u001b[39m \u001b[39m\u001b[39m'\u001b[39m)\u001b[39m.\u001b[39mreplace(\u001b[39m'\u001b[39m\u001b[39m*\u001b[39m\u001b[39m'\u001b[39m, \u001b[39m'\u001b[39m\u001b[39m'\u001b[39m)\u001b[39m.\u001b[39mrstrip())\n\u001b[0;32m     26\u001b[0m     df_filtered \u001b[39m=\u001b[39m df[\u001b[39m'\u001b[39m\u001b[39mName\u001b[39m\u001b[39m'\u001b[39m]\n",
      "File \u001b[1;32mc:\\Users\\polit\\AppData\\Local\\Programs\\Python\\Python311\\Lib\\site-packages\\pandas\\io\\excel\\_base.py:478\u001b[0m, in \u001b[0;36mread_excel\u001b[1;34m(io, sheet_name, header, names, index_col, usecols, dtype, engine, converters, true_values, false_values, skiprows, nrows, na_values, keep_default_na, na_filter, verbose, parse_dates, date_parser, date_format, thousands, decimal, comment, skipfooter, storage_options, dtype_backend)\u001b[0m\n\u001b[0;32m    476\u001b[0m \u001b[39mif\u001b[39;00m \u001b[39mnot\u001b[39;00m \u001b[39misinstance\u001b[39m(io, ExcelFile):\n\u001b[0;32m    477\u001b[0m     should_close \u001b[39m=\u001b[39m \u001b[39mTrue\u001b[39;00m\n\u001b[1;32m--> 478\u001b[0m     io \u001b[39m=\u001b[39m ExcelFile(io, storage_options\u001b[39m=\u001b[39;49mstorage_options, engine\u001b[39m=\u001b[39;49mengine)\n\u001b[0;32m    479\u001b[0m \u001b[39melif\u001b[39;00m engine \u001b[39mand\u001b[39;00m engine \u001b[39m!=\u001b[39m io\u001b[39m.\u001b[39mengine:\n\u001b[0;32m    480\u001b[0m     \u001b[39mraise\u001b[39;00m \u001b[39mValueError\u001b[39;00m(\n\u001b[0;32m    481\u001b[0m         \u001b[39m\"\u001b[39m\u001b[39mEngine should not be specified when passing \u001b[39m\u001b[39m\"\u001b[39m\n\u001b[0;32m    482\u001b[0m         \u001b[39m\"\u001b[39m\u001b[39man ExcelFile - ExcelFile already has the engine set\u001b[39m\u001b[39m\"\u001b[39m\n\u001b[0;32m    483\u001b[0m     )\n",
      "File \u001b[1;32mc:\\Users\\polit\\AppData\\Local\\Programs\\Python\\Python311\\Lib\\site-packages\\pandas\\io\\excel\\_base.py:1496\u001b[0m, in \u001b[0;36mExcelFile.__init__\u001b[1;34m(self, path_or_buffer, engine, storage_options)\u001b[0m\n\u001b[0;32m   1494\u001b[0m     ext \u001b[39m=\u001b[39m \u001b[39m\"\u001b[39m\u001b[39mxls\u001b[39m\u001b[39m\"\u001b[39m\n\u001b[0;32m   1495\u001b[0m \u001b[39melse\u001b[39;00m:\n\u001b[1;32m-> 1496\u001b[0m     ext \u001b[39m=\u001b[39m inspect_excel_format(\n\u001b[0;32m   1497\u001b[0m         content_or_path\u001b[39m=\u001b[39;49mpath_or_buffer, storage_options\u001b[39m=\u001b[39;49mstorage_options\n\u001b[0;32m   1498\u001b[0m     )\n\u001b[0;32m   1499\u001b[0m     \u001b[39mif\u001b[39;00m ext \u001b[39mis\u001b[39;00m \u001b[39mNone\u001b[39;00m:\n\u001b[0;32m   1500\u001b[0m         \u001b[39mraise\u001b[39;00m \u001b[39mValueError\u001b[39;00m(\n\u001b[0;32m   1501\u001b[0m             \u001b[39m\"\u001b[39m\u001b[39mExcel file format cannot be determined, you must specify \u001b[39m\u001b[39m\"\u001b[39m\n\u001b[0;32m   1502\u001b[0m             \u001b[39m\"\u001b[39m\u001b[39man engine manually.\u001b[39m\u001b[39m\"\u001b[39m\n\u001b[0;32m   1503\u001b[0m         )\n",
      "File \u001b[1;32mc:\\Users\\polit\\AppData\\Local\\Programs\\Python\\Python311\\Lib\\site-packages\\pandas\\io\\excel\\_base.py:1371\u001b[0m, in \u001b[0;36minspect_excel_format\u001b[1;34m(content_or_path, storage_options)\u001b[0m\n\u001b[0;32m   1368\u001b[0m \u001b[39mif\u001b[39;00m \u001b[39misinstance\u001b[39m(content_or_path, \u001b[39mbytes\u001b[39m):\n\u001b[0;32m   1369\u001b[0m     content_or_path \u001b[39m=\u001b[39m BytesIO(content_or_path)\n\u001b[1;32m-> 1371\u001b[0m \u001b[39mwith\u001b[39;00m get_handle(\n\u001b[0;32m   1372\u001b[0m     content_or_path, \u001b[39m\"\u001b[39;49m\u001b[39mrb\u001b[39;49m\u001b[39m\"\u001b[39;49m, storage_options\u001b[39m=\u001b[39;49mstorage_options, is_text\u001b[39m=\u001b[39;49m\u001b[39mFalse\u001b[39;49;00m\n\u001b[0;32m   1373\u001b[0m ) \u001b[39mas\u001b[39;00m handle:\n\u001b[0;32m   1374\u001b[0m     stream \u001b[39m=\u001b[39m handle\u001b[39m.\u001b[39mhandle\n\u001b[0;32m   1375\u001b[0m     stream\u001b[39m.\u001b[39mseek(\u001b[39m0\u001b[39m)\n",
      "File \u001b[1;32mc:\\Users\\polit\\AppData\\Local\\Programs\\Python\\Python311\\Lib\\site-packages\\pandas\\io\\common.py:868\u001b[0m, in \u001b[0;36mget_handle\u001b[1;34m(path_or_buf, mode, encoding, compression, memory_map, is_text, errors, storage_options)\u001b[0m\n\u001b[0;32m    859\u001b[0m         handle \u001b[39m=\u001b[39m \u001b[39mopen\u001b[39m(\n\u001b[0;32m    860\u001b[0m             handle,\n\u001b[0;32m    861\u001b[0m             ioargs\u001b[39m.\u001b[39mmode,\n\u001b[1;32m   (...)\u001b[0m\n\u001b[0;32m    864\u001b[0m             newline\u001b[39m=\u001b[39m\u001b[39m\"\u001b[39m\u001b[39m\"\u001b[39m,\n\u001b[0;32m    865\u001b[0m         )\n\u001b[0;32m    866\u001b[0m     \u001b[39melse\u001b[39;00m:\n\u001b[0;32m    867\u001b[0m         \u001b[39m# Binary mode\u001b[39;00m\n\u001b[1;32m--> 868\u001b[0m         handle \u001b[39m=\u001b[39m \u001b[39mopen\u001b[39;49m(handle, ioargs\u001b[39m.\u001b[39;49mmode)\n\u001b[0;32m    869\u001b[0m     handles\u001b[39m.\u001b[39mappend(handle)\n\u001b[0;32m    871\u001b[0m \u001b[39m# Convert BytesIO or file objects passed with an encoding\u001b[39;00m\n",
      "\u001b[1;31mFileNotFoundError\u001b[0m: [Errno 2] No such file or directory: 'Z:/Data/HSBC/Assignments/ASG_TDC_IA_JAN_JUNE.xlsx'"
     ]
    }
   ],
   "source": [
    "init = 0\n",
    "final = 2000\n",
    "excel_file = 'Z:/Data/HSBC/Assignments/ASG_TDC_IA_JAN_JUNE.xlsx'\n",
    "result_df = process_excel_file(init, final, excel_file)\n",
    "print(result_df.head())"
   ]
  },
  {
   "cell_type": "code",
   "execution_count": null,
   "metadata": {},
   "outputs": [
    {
     "data": {
      "text/html": [
       "<div>\n",
       "<style scoped>\n",
       "    .dataframe tbody tr th:only-of-type {\n",
       "        vertical-align: middle;\n",
       "    }\n",
       "\n",
       "    .dataframe tbody tr th {\n",
       "        vertical-align: top;\n",
       "    }\n",
       "\n",
       "    .dataframe thead th {\n",
       "        text-align: right;\n",
       "    }\n",
       "</style>\n",
       "<table border=\"1\" class=\"dataframe\">\n",
       "  <thead>\n",
       "    <tr style=\"text-align: right;\">\n",
       "      <th></th>\n",
       "      <th>Nombre</th>\n",
       "      <th>NombreSplit</th>\n",
       "      <th>Paterno</th>\n",
       "      <th>Materno</th>\n",
       "    </tr>\n",
       "  </thead>\n",
       "  <tbody>\n",
       "    <tr>\n",
       "      <th>0</th>\n",
       "      <td>raul emanuelle</td>\n",
       "      <td>[raul emanuelle, segura, miranda]</td>\n",
       "      <td>segura</td>\n",
       "      <td>miranda</td>\n",
       "    </tr>\n",
       "    <tr>\n",
       "      <th>1</th>\n",
       "      <td>carlos</td>\n",
       "      <td>[carlos, molinar, varela]</td>\n",
       "      <td>molinar</td>\n",
       "      <td>varela</td>\n",
       "    </tr>\n",
       "    <tr>\n",
       "      <th>2</th>\n",
       "      <td>rene de jesus</td>\n",
       "      <td>[rene de jesus, mena, chavez]</td>\n",
       "      <td>mena</td>\n",
       "      <td>chavez</td>\n",
       "    </tr>\n",
       "    <tr>\n",
       "      <th>3</th>\n",
       "      <td>ana luisa</td>\n",
       "      <td>[ana luisa, aparicio, ruiz]</td>\n",
       "      <td>aparicio</td>\n",
       "      <td>ruiz</td>\n",
       "    </tr>\n",
       "    <tr>\n",
       "      <th>4</th>\n",
       "      <td>maria de la luz eugenia</td>\n",
       "      <td>[maria de la luz eugenia, rivero, aguilar]</td>\n",
       "      <td>rivero</td>\n",
       "      <td>aguilar</td>\n",
       "    </tr>\n",
       "  </tbody>\n",
       "</table>\n",
       "</div>"
      ],
      "text/plain": [
       "                    Nombre                                 NombreSplit  \\\n",
       "0           raul emanuelle           [raul emanuelle, segura, miranda]   \n",
       "1                   carlos                   [carlos, molinar, varela]   \n",
       "2            rene de jesus               [rene de jesus, mena, chavez]   \n",
       "3                ana luisa                 [ana luisa, aparicio, ruiz]   \n",
       "4  maria de la luz eugenia  [maria de la luz eugenia, rivero, aguilar]   \n",
       "\n",
       "    Paterno  Materno  \n",
       "0    segura  miranda  \n",
       "1   molinar   varela  \n",
       "2      mena   chavez  \n",
       "3  aparicio     ruiz  \n",
       "4    rivero  aguilar  "
      ]
     },
     "execution_count": 16,
     "metadata": {},
     "output_type": "execute_result"
    }
   ],
   "source": [
    "init=0\n",
    "final=2000\n",
    "\n",
    "df = pd.read_excel('Z:/Data/HSBC/Asignaciones/ASG_TDC_IA_ENERO_JUNIO.xlsx')\n",
    "df['Nombre'] = df.Nombre.apply(lambda X: X.replace('/', ' ').replace('*', '').rstrip())\n",
    "df_filtered = df['Nombre']\n",
    "df_filtered.drop_duplicates(inplace=True)\n",
    "df_input = pd.DataFrame(df_filtered).iloc[init:final]\n",
    "\n",
    "\n",
    "\n",
    "df_input['NombreSplit'] = df_input.Nombre.apply(lambda X: split_name(X))\n",
    "df_input['Nombre'] = df_input.NombreSplit.apply(lambda X: X[0])\n",
    "df_input['Paterno'] = df_input.NombreSplit.apply(lambda X: X[1])\n",
    "df_input['Materno'] = df_input.NombreSplit.apply(lambda X: X[2])\n",
    "# Cambiar nombre\n",
    "#df.rename(columns={'Nombre':'Nombre'}, inplace=True)\n",
    "df_input.head()"
   ]
  },
  {
   "cell_type": "markdown",
   "metadata": {},
   "source": [
    "### Scrapper"
   ]
  },
  {
   "cell_type": "code",
   "execution_count": null,
   "metadata": {},
   "outputs": [],
   "source": [
    "driver.execute_script(\"window.scrollTo(10, 4000);\")"
   ]
  },
  {
   "cell_type": "code",
   "execution_count": null,
   "metadata": {},
   "outputs": [
    {
     "name": "stdout",
     "output_type": "stream",
     "text": [
      "Cantidad de registros: 2\n",
      "Cantidad de registros: 2\n",
      "Cantidad de registros: 2\n",
      "Cantidad de registros: 2\n"
     ]
    }
   ],
   "source": [
    "data=[]\n",
    "for index, row in df.iterrows():\n",
    "    nombre=row['Nombre']\n",
    "    paterno=row['Paterno']\n",
    "    materno=row['Materno']\n",
    "    # Ingresar nombres\n",
    "    celda_nombre = driver.find_element(By.XPATH, '//*[@id=\"input-nombre\"]')\n",
    "    celda_nombre.send_keys(str(nombre))\n",
    "\n",
    "    #Ingresar Apellido Paterno\n",
    "    celda_paterno = driver.find_element(By.XPATH, '//*[@id=\"input-apaterno\"]')\n",
    "    celda_paterno.send_keys(str(paterno))\n",
    "\n",
    "    # Ingresar Apellido Materno\n",
    "    celda_materno = driver.find_element(By.XPATH, '//*[@id=\"input-amaterno\"]')\n",
    "    celda_materno.send_keys(str(materno))\n",
    "\n",
    "    # Click en botón buscar\n",
    "    buscar = driver.find_element(By.XPATH, '//*[@id=\"container-form-1\"]/form/div[4]/div/input')\n",
    "    buscar.click()\n",
    "    time.sleep(2)\n",
    "\n",
    "    max_wait_time = 5  # Tiempo máximo de espera en segundos\n",
    "    start_time = time.time()  # Momento de inicio de espera\n",
    "\n",
    "    while time.time() - start_time < max_wait_time:\n",
    "        try:\n",
    "            alert = driver.switch_to.alert\n",
    "            alert.accept()\n",
    "            driver.refresh()\n",
    "            break  # Salir del bucle si se encuentra la ventana emergente\n",
    "        except:\n",
    "\n",
    "            time.sleep(1)  # Esperar 1 segundo antes de intentar nuevamente\n",
    "            \n",
    "            \n",
    "\n",
    "    #tabla = driver.find_elements(By.XPATH, '//*[@id=\"result_table_row\"]/tr[1]/td[3]/input')\n",
    "        \n",
    "        # Encontrar botones ver-mas\n",
    "    ver_botones = driver.find_elements(By.CLASS_NAME, 'ver-mas')\n",
    "        # Iterar sobre los botones\n",
    "    \n",
    "    \n",
    "    for ver in ver_botones:\n",
    "        cantidad_registros = len(ver_botones)\n",
    "        print(\"Cantidad de registros:\", cantidad_registros)\n",
    "\n",
    "        #time.sleep()\n",
    "        ver.click()\n",
    "        \n",
    "        # Encontrar los elementos de entrada de texto por su id\n",
    "        input_cedula = driver.find_element(By.ID, \"input-cedula-result\")\n",
    "        input_tipo = driver.find_element(By.ID, \"input-tipo-result\")\n",
    "        input_sexo = driver.find_element(By.ID, \"input-sexo-result\")\n",
    "        input_nombre = driver.find_element(By.ID, \"input-nombre-result\")\n",
    "        input_paterno = driver.find_element(By.ID, \"input-paterno-result\")\n",
    "        input_materno = driver.find_element(By.ID, \"input-materno-result\")\n",
    "        input_escuela = driver.find_element(By.ID, \"input-escuela-result\")\n",
    "        input_titulo = driver.find_element(By.ID, \"input-titulo-result\")\n",
    "\n",
    "        # Obtener los valores de los campos\n",
    "        valor_cedula = input_cedula.get_attribute(\"value\")\n",
    "        valor_tipo = input_tipo.get_attribute(\"value\")\n",
    "        valor_sexo = input_sexo.get_attribute(\"value\")\n",
    "        valor_nombre = input_nombre.get_attribute(\"value\")\n",
    "        valor_paterno = input_paterno.get_attribute(\"value\")\n",
    "        valor_materno = input_materno.get_attribute(\"value\")\n",
    "        valor_escuela = input_escuela.get_attribute(\"value\")\n",
    "        valor_titulo = input_titulo.get_attribute(\"value\")\n",
    "\n",
    "        # Agregar los valores a la lista de diccionarios\n",
    "        data.append({\n",
    "        \"Cédula\": valor_cedula,\n",
    "        \"Tipo de Cédula\": valor_tipo,\n",
    "        \"Sexo\": valor_sexo,\n",
    "        \"Nombre\": valor_nombre,\n",
    "        \"Paterno\": valor_paterno,\n",
    "        \"Materno\": valor_materno,\n",
    "        \"Escuela\": valor_escuela,\n",
    "        \"Título\": valor_titulo\n",
    "        })\n",
    "        # Encontrar los elementos de entrada de texto por su id\n",
    "        cerrar = driver.find_element(By.XPATH, '//*[@id=\"cerrar_resut_personal\"]')\n",
    "        cerrar.click()\n",
    "    driver.refresh()\n",
    "\n",
    "        \n",
    "df_data = pd.DataFrame(data)\n",
    "    \n",
    "\n",
    "                \n",
    "\n",
    "        \n",
    "\n",
    "            \n"
   ]
  },
  {
   "cell_type": "code",
   "execution_count": null,
   "metadata": {},
   "outputs": [
    {
     "data": {
      "text/html": [
       "<div>\n",
       "<style scoped>\n",
       "    .dataframe tbody tr th:only-of-type {\n",
       "        vertical-align: middle;\n",
       "    }\n",
       "\n",
       "    .dataframe tbody tr th {\n",
       "        vertical-align: top;\n",
       "    }\n",
       "\n",
       "    .dataframe thead th {\n",
       "        text-align: right;\n",
       "    }\n",
       "</style>\n",
       "<table border=\"1\" class=\"dataframe\">\n",
       "  <thead>\n",
       "    <tr style=\"text-align: right;\">\n",
       "      <th></th>\n",
       "      <th>Cédula</th>\n",
       "      <th>Tipo de Cédula</th>\n",
       "      <th>Sexo</th>\n",
       "      <th>Nombre</th>\n",
       "      <th>Paterno</th>\n",
       "      <th>Materno</th>\n",
       "      <th>Escuela</th>\n",
       "      <th>Título</th>\n",
       "    </tr>\n",
       "  </thead>\n",
       "  <tbody>\n",
       "    <tr>\n",
       "      <th>0</th>\n",
       "      <td>2590660</td>\n",
       "      <td>C1</td>\n",
       "      <td>Maculino</td>\n",
       "      <td>JOSÉ LUIS</td>\n",
       "      <td>CRUZ</td>\n",
       "      <td>JARAMILLO</td>\n",
       "      <td>COLEGIO NACIONAL DE EDUCACIÓN PROFESIONAL TÉCNICA</td>\n",
       "      <td>PROFNAL. TEC. COMO QUÍMICO ESP. PROCESOS DE PR...</td>\n",
       "    </tr>\n",
       "    <tr>\n",
       "      <th>1</th>\n",
       "      <td>8666598</td>\n",
       "      <td>C1</td>\n",
       "      <td>Maculino</td>\n",
       "      <td>JOSE LUIS</td>\n",
       "      <td>CRUZ</td>\n",
       "      <td>JARAMILLO</td>\n",
       "      <td>INSTITUTO POLITÉCNICO NACIONAL</td>\n",
       "      <td>LICENCIATURA EN INGENIERÍA BIOTECNOLÓGICA</td>\n",
       "    </tr>\n",
       "    <tr>\n",
       "      <th>2</th>\n",
       "      <td>12146217</td>\n",
       "      <td>C1</td>\n",
       "      <td>Maculino</td>\n",
       "      <td>JOSE ALBERTO</td>\n",
       "      <td>MONTAN</td>\n",
       "      <td>LOPEZ</td>\n",
       "      <td>INSTITUTO TECNOLÓGICO Y DE ESTUDIOS SUPERIORES...</td>\n",
       "      <td>LICENCIATURA EN INGENIERO EN MECATRÓNICA</td>\n",
       "    </tr>\n",
       "    <tr>\n",
       "      <th>3</th>\n",
       "      <td>13574048</td>\n",
       "      <td>C1</td>\n",
       "      <td>Maculino</td>\n",
       "      <td>JOSE ALBERTO</td>\n",
       "      <td>MONTAN</td>\n",
       "      <td>LOPEZ</td>\n",
       "      <td>INSTITUTO TECNOLÓGICO Y DE ESTUDIOS SUPERIORES...</td>\n",
       "      <td>MAESTRÍA EN CIENCIAS COMPUTACIONALES</td>\n",
       "    </tr>\n",
       "  </tbody>\n",
       "</table>\n",
       "</div>"
      ],
      "text/plain": [
       "     Cédula Tipo de Cédula      Sexo        Nombre Paterno    Materno  \\\n",
       "0   2590660             C1  Maculino     JOSÉ LUIS    CRUZ  JARAMILLO   \n",
       "1   8666598             C1  Maculino     JOSE LUIS    CRUZ  JARAMILLO   \n",
       "2  12146217             C1  Maculino  JOSE ALBERTO  MONTAN      LOPEZ   \n",
       "3  13574048             C1  Maculino  JOSE ALBERTO  MONTAN      LOPEZ   \n",
       "\n",
       "                                             Escuela  \\\n",
       "0  COLEGIO NACIONAL DE EDUCACIÓN PROFESIONAL TÉCNICA   \n",
       "1                     INSTITUTO POLITÉCNICO NACIONAL   \n",
       "2  INSTITUTO TECNOLÓGICO Y DE ESTUDIOS SUPERIORES...   \n",
       "3  INSTITUTO TECNOLÓGICO Y DE ESTUDIOS SUPERIORES...   \n",
       "\n",
       "                                              Título  \n",
       "0  PROFNAL. TEC. COMO QUÍMICO ESP. PROCESOS DE PR...  \n",
       "1          LICENCIATURA EN INGENIERÍA BIOTECNOLÓGICA  \n",
       "2           LICENCIATURA EN INGENIERO EN MECATRÓNICA  \n",
       "3               MAESTRÍA EN CIENCIAS COMPUTACIONALES  "
      ]
     },
     "execution_count": 9,
     "metadata": {},
     "output_type": "execute_result"
    }
   ],
   "source": [
    "df_data"
   ]
  },
  {
   "cell_type": "code",
   "execution_count": null,
   "metadata": {},
   "outputs": [],
   "source": []
  }
 ],
 "metadata": {
  "kernelspec": {
   "display_name": "base",
   "language": "python",
   "name": "python3"
  },
  "language_info": {
   "codemirror_mode": {
    "name": "ipython",
    "version": 3
   },
   "file_extension": ".py",
   "mimetype": "text/x-python",
   "name": "python",
   "nbconvert_exporter": "python",
   "pygments_lexer": "ipython3",
   "version": "3.11.4"
  },
  "orig_nbformat": 4
 },
 "nbformat": 4,
 "nbformat_minor": 2
}
